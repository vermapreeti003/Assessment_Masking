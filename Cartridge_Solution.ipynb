{
 "cells": [
  {
   "cell_type": "code",
   "execution_count": 1,
   "id": "5c2a09fe",
   "metadata": {},
   "outputs": [],
   "source": [
    "#importing libraries\n",
    "import cv2 \n",
    "import numpy as np \n",
    "from matplotlib import pyplot as plt \n",
    "\n",
    " "
   ]
  },
  {
   "cell_type": "code",
   "execution_count": 2,
   "id": "8549beb5",
   "metadata": {},
   "outputs": [],
   "source": [
    "# reading image \n",
    "img = cv2.imread(r'C:\\Users\\Preeti\\Desktop\\Untitled Folder\\image2.png') \n",
    "output = img\n",
    "result = img\n",
    "\n",
    "# converting image into grayscale image \n",
    "gray = cv2.cvtColor(img, cv2.COLOR_BGR2GRAY) \n",
    "\n",
    "(thresh, blackAndWhiteImage) = cv2.threshold(gray, 145, 255, cv2.THRESH_BINARY) \n",
    "\n",
    "blur = cv2.blur(blackAndWhiteImage,(15,15))\n",
    "\n",
    "(thresh, blackAndWhiteImage) = cv2.threshold(blur, 200, 255, cv2.THRESH_BINARY) \n",
    "\n"
   ]
  },
  {
   "cell_type": "code",
   "execution_count": 3,
   "id": "149f3400",
   "metadata": {},
   "outputs": [],
   "source": [
    "#show the image\n",
    "cv2.imshow('Black and White', blackAndWhiteImage) \n",
    "cv2.waitKey(0) \n",
    "cv2.destroyAllWindows()\n"
   ]
  },
  {
   "cell_type": "code",
   "execution_count": 4,
   "id": "88d5971c",
   "metadata": {},
   "outputs": [],
   "source": [
    "#inverted image \n",
    "imageInverted = cv2.bitwise_not(blackAndWhiteImage)\n",
    "\n",
    "contours, hierarchy = cv2.findContours(imageInverted, cv2.RETR_LIST, cv2.CHAIN_APPROX_NONE)\n",
    "\n",
    "cv2.drawContours(imageInverted, contours, -1, (255, 0, 255), 3)\n",
    "\n",
    "cv2.imshow('Biggest Contour', imageInverted)\n",
    "cv2.waitKey(0) \n",
    "cv2.destroyAllWindows()\n",
    "\n",
    "\n"
   ]
  },
  {
   "cell_type": "code",
   "execution_count": 5,
   "id": "6345f5fc",
   "metadata": {},
   "outputs": [],
   "source": [
    "#counting all contours\n",
    "cnts = sorted(contours, key=cv2.contourArea, reverse=True)\n",
    "\n",
    "mask = np.zeros(img.shape[:2], np.uint8)\n",
    "mask= cv2.bitwise_not(mask)\n",
    "\n",
    "cv2.drawContours(mask, cnts, 1, (0,255,0), 3)\n",
    "cv2.drawContours(mask, cnts, 2, (0,255,0), 3)\n",
    "cv2.imshow(\"Mask\", mask)\n",
    "cv2.waitKey(0) \n",
    "cv2.destroyAllWindows()"
   ]
  },
  {
   "cell_type": "code",
   "execution_count": 6,
   "id": "c9e7f2ea",
   "metadata": {},
   "outputs": [
    {
     "data": {
      "text/plain": [
       "-1"
      ]
     },
     "execution_count": 6,
     "metadata": {},
     "output_type": "execute_result"
    }
   ],
   "source": [
    "# finding 2nd and 3rd largest contours\n",
    "largests = img\n",
    "SecondMax= cnts[1]\n",
    "thirdMax= cnts[2]\n",
    "cv2.drawContours(largests, [SecondMax], 0, (0, 0, 255), 5)\n",
    "cv2.drawContours(largests, [thirdMax], 0, (0, 0, 255), 5)\n",
    "cv2.imshow(\"Mask\", mask)\n",
    "cv2.waitKey(0)\n"
   ]
  },
  {
   "cell_type": "code",
   "execution_count": 7,
   "id": "c2a9fd28",
   "metadata": {},
   "outputs": [
    {
     "data": {
      "text/plain": [
       "-1"
      ]
     },
     "execution_count": 7,
     "metadata": {},
     "output_type": "execute_result"
    }
   ],
   "source": [
    "# to fill contours finding seed \n",
    "(x,y),radius = cv2.minEnclosingCircle(SecondMax)\n",
    "center = (int(x),int(y))\n",
    "radius = int(radius) - 50\n",
    "\n",
    "mask2 = np.zeros(img.shape[:2], np.uint8)\n",
    "mask2 = cv2.bitwise_not(mask2)\n",
    "cv2.circle(mask2,center,radius,(0,255,0),1)\n",
    "\n",
    "h = mask2.shape[0]\n",
    "w = mask2.shape[1]\n",
    "\n",
    "seed_x=0\n",
    "seed_y=0\n",
    "# Find Seed\n",
    "# loop over the image, pixel by pixel\n",
    "for y in range(0, h):\n",
    "    for x in range(0, w):\n",
    "        # threshold the pixel\n",
    "        if mask2[y,x] == 255:\n",
    "            if mask2[y,x-1] == 0:\n",
    "                seed_x = x\n",
    "                seed_y = y\n",
    "                break\n",
    "\n",
    "\n",
    "cv2.imshow(\"Mask\", mask)\n",
    "cv2.waitKey(0)\n"
   ]
  },
  {
   "cell_type": "code",
   "execution_count": 8,
   "id": "44454c2c",
   "metadata": {},
   "outputs": [],
   "source": [
    "#used floodfill to fill mask\n",
    "cv2.floodFill(mask, None,(seed_x, seed_y) , 0)\n",
    "\n",
    "invertedMask = cv2.bitwise_not(mask)\n",
    "cv2.imshow(\"Mask\", mask)\n",
    "cv2.waitKey(0)\n",
    " \n",
    "cv2.destroyAllWindows()\n",
    "\n"
   ]
  },
  {
   "cell_type": "code",
   "execution_count": 9,
   "id": "68a0c433",
   "metadata": {},
   "outputs": [],
   "source": [
    "# convert mask to gray and then threshold it to convert it to binary\n",
    "\n",
    "#grayMask = cv2.cvtColor(mask, cv2.COLOR_BGR2GRAY)\n",
    "ret, binary = cv2.threshold(invertedMask, 40, 255, cv2.THRESH_BINARY)\n",
    "\n",
    "# split source to B,G,R channels\n",
    "b,g,r = cv2.split(img)\n",
    "cv2.imshow(\"r channel\", r)\n",
    "cv2.waitKey(0)\n",
    " \n",
    "cv2.destroyAllWindows()"
   ]
  },
  {
   "cell_type": "code",
   "execution_count": null,
   "id": "59201c76",
   "metadata": {},
   "outputs": [],
   "source": [
    "r = cv2.add(r, 30, dst = r, mask = binary, dtype = cv2.CV_8U)\n",
    "\n",
    "cv2.merge((b,g,r), output)\n",
    "cv2.imshow('Masked Image',output)\n",
    "cv2.waitKey(0)\n",
    " \n",
    "cv2.destroyAllWindows()"
   ]
  },
  {
   "cell_type": "code",
   "execution_count": null,
   "id": "40eaa630",
   "metadata": {},
   "outputs": [],
   "source": []
  }
 ],
 "metadata": {
  "kernelspec": {
   "display_name": "Python 3 (ipykernel)",
   "language": "python",
   "name": "python3"
  },
  "language_info": {
   "codemirror_mode": {
    "name": "ipython",
    "version": 3
   },
   "file_extension": ".py",
   "mimetype": "text/x-python",
   "name": "python",
   "nbconvert_exporter": "python",
   "pygments_lexer": "ipython3",
   "version": "3.7.13"
  }
 },
 "nbformat": 4,
 "nbformat_minor": 5
}
